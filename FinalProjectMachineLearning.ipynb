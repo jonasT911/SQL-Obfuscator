{
 "cells": [
  {
   "cell_type": "markdown",
   "metadata": {},
   "source": [
    "# Final Project\n"
   ]
  },
  {
   "cell_type": "code",
   "execution_count": 2,
   "metadata": {},
   "outputs": [
    {
     "name": "stdout",
     "output_type": "stream",
     "text": [
      "\n",
      "Begin Obfuscator\n",
      "  \" select * from users where id  =  '1' or @ @1  =  1 union select 1,version  (    )   -- 1'\"\n",
      "   \" select * from users where  2*3-6+id+2*3-6+2*3-6+8-8+2/2-1=SIN(0)+2/2-1+'1'+2*3-6 Or 2*3-6 or @  8-8+2/2-1+0+@1+0+8-8=1+2/2-1+SIN(0)+SIN(0)+SIN(0) union select 1,version  (    )   -- 1' \" \n",
      "%20 %20\" sel%65c%74 *%20from %75se%72s%20where  %32*%33-6+%69d%2b2%2a3%2d6+2%2a3%2d6%2b8-%38+%32/%32-1=%53IN%280%29+%32/%32-%31+'1'+2%2a3-6%20O%72 2*%33-6 o%72 @  8%2d8+%32/2-1%2b0%2b@%31+%30+8-8=1%2b2%2f2%2d1%2bS%49N%280)%2bS%49N%280)%2bSI%4e(%30)%20u%6eion sel%65c%74 1,v%65rs%69on%20 %28    %29  %20--%201'%20\"%20\n",
      "\n",
      "admin'  )   or   (  '1'  =  '1\n",
      "admin'  )   Or 2/2-1 oR 2*3-6 Or 8-8 Or   (   SIN(0)+'1'+8-8+8-8+0=2/2-1+2*3-6+2*3-6+'1+0+2/2-1 \n",
      "%61dmin'%20 %29   %4fr %32/2-1 oR %32*3%2d6%20Or %38-8 %4fr%20  %28 %20 SIN%280)%2b'1'+8-%38+8%2d8+%30=%32/2%2d1+2%2a3%2d6+%32*%33-6%2b'1%2b0+%32/2%2d1 \n",
      "\n",
      "\" select * from users where id  =  1 or \"\"&  (  \"\" or 1  =  1 -- 1\"\n",
      " \" select * from users where  id+0+SIN(0)+8-8=0+SIN(0)+1+SIN(0) oR 2*3-6 oR 2*3-6 oR 2/2-1 oR  \" \"&  (   \" \" Or 2/2-1 Or  2*3-6+2/2-1+1+2*3-6+2/2-1=8-8+1+8-8+8-8 -- 1 \" \n",
      " \"%20s%65le%63t%20*%20fr%6fm us%65r%73 %77here%20 %69d+0+SIN%280%29+8%2d8=0+SIN(%30)%2b1%2bS%49N(0) o%52 2%2a3-6 %6fR %32*%33-%36 o%52 %32/2%2d1%20oR%20 \" \"&%20 %28  %20\"%20\"%20O%72 %32/2%2d1%20O%72 %202*3%2d6+%32/2-1%2b1%2b2*%33-6+2%2f2-%31=8%2d8%2b1+8-8+%38-8%20--%201 \"%20\n",
      "\n",
      "\"1\"\"  )   where 1144  =  1144 and 2006  =  2006\"\n",
      " \"1 \" \"  )   where  0+2/2-1+SIN(0)+1144=8-8+1144+0 aND 1 aND  2*3-6+SIN(0)+0+2006+2*3-6+2/2-1=2*3-6+SIN(0)+0+SIN(0)+2006+2/2-1 \" \n",
      "%20\"%31 \"%20\"  %29 %20 w%68ere  0+%32/%32-%31+SI%4e(%30)+114%34=%38-%38+%3114%34+%30 aN%44 1 aN%44  %32*3%2d6%2bS%49N%280%29+0+2%300%36+%32*%33-6+2%2f2-%31=%32*3-6+%53I%4e(0)%2b0+S%49N%280%29+2006%2b2%2f2-%31 \"%20\n",
      "\n"
     ]
    }
   ],
   "source": [
    "import numpy as np\n",
    "import sys\n",
    "import os\n",
    "import csv\n",
    "import pandas as pd\n",
    "\n",
    "import obfuscator\n"
   ]
  },
  {
   "cell_type": "code",
   "execution_count": 3,
   "metadata": {
    "scrolled": true
   },
   "outputs": [
    {
     "name": "stdout",
     "output_type": "stream",
     "text": [
      "0                        \" or pg_sleep  (  __TIME__  )  --\n",
      "1        create user name identified by pass123 tempora...\n",
      "2         AND 1  =  utl_inaddr.get_host_address   (    ...\n",
      "3         select * from users where id  =  '1' or @ @1 ...\n",
      "4         select * from users where id  =  1 or 1#\"  ( ...\n",
      "                               ...                        \n",
      "19336    com\" style  =  \"max-width:450px;float:left;pad...\n",
      "19337    0\" encoding  =  \"utf-8\" ?>   <_filter>  <![CDA...\n",
      "19338    org/?option  =  com_k2  <a href  =  \"http://co...\n",
      "19339    com/?option  =  com_k2  <act>  <![CDATA[procMe...\n",
      "19340    com/is?-WZx-uhyLezKNiYLvAbKL3W4oh5F749nr2KUmFF...\n",
      "Name: Query, Length: 19341, dtype: object\n",
      "0        1\n",
      "1        1\n",
      "2        1\n",
      "3        1\n",
      "4        1\n",
      "        ..\n",
      "19336    0\n",
      "19337    0\n",
      "19338    0\n",
      "19339    0\n",
      "19340    0\n",
      "Name: Label, Length: 19341, dtype: int64\n"
     ]
    }
   ],
   "source": [
    "\n",
    "data = pd.read_csv('noFakeSQL_SQL_Dataset.csv')\n",
    "\n",
    "print(data.Query)\n",
    "print(data.Label)"
   ]
  },
  {
   "cell_type": "markdown",
   "metadata": {},
   "source": [
    "Prepare Data\n"
   ]
  },
  {
   "cell_type": "code",
   "execution_count": 61,
   "metadata": {},
   "outputs": [
    {
     "ename": "KeyError",
     "evalue": "0",
     "output_type": "error",
     "traceback": [
      "\u001b[1;31m---------------------------------------------------------------------------\u001b[0m",
      "\u001b[1;31mKeyError\u001b[0m                                  Traceback (most recent call last)",
      "\u001b[1;32m~\\AppData\\Local\\Temp\\ipykernel_26596\\1125766046.py\u001b[0m in \u001b[0;36m<module>\u001b[1;34m\u001b[0m\n\u001b[0;32m      5\u001b[0m twenty_train = fetch_20newsgroups(subset='train',\n\u001b[0;32m      6\u001b[0m     categories=categories, shuffle=True, random_state=42)\n\u001b[1;32m----> 7\u001b[1;33m \u001b[0mtwenty_train\u001b[0m\u001b[1;33m[\u001b[0m\u001b[1;36m0\u001b[0m\u001b[1;33m]\u001b[0m\u001b[1;33m\u001b[0m\u001b[1;33m\u001b[0m\u001b[0m\n\u001b[0m",
      "\u001b[1;31mKeyError\u001b[0m: 0"
     ]
    }
   ],
   "source": [
    "categories = ['alt.atheism', 'soc.religion.christian',\n",
    "              'comp.graphics', 'sci.med']\n",
    "\n",
    "from sklearn.datasets import fetch_20newsgroups\n",
    "twenty_train = fetch_20newsgroups(subset='train',\n",
    "    categories=categories, shuffle=True, random_state=42)\n",
    "twenty_train.target_names"
   ]
  },
  {
   "cell_type": "code",
   "execution_count": 39,
   "metadata": {},
   "outputs": [
    {
     "name": "stdout",
     "output_type": "stream",
     "text": [
      "2257\n"
     ]
    }
   ],
   "source": [
    "print(len(twenty_train.data))"
   ]
  },
  {
   "cell_type": "code",
   "execution_count": 62,
   "metadata": {},
   "outputs": [
    {
     "data": {
      "text/plain": [
       "(19341, 20305)"
      ]
     },
     "execution_count": 62,
     "metadata": {},
     "output_type": "execute_result"
    }
   ],
   "source": [
    "from sklearn.feature_extraction.text import CountVectorizer\n",
    "count_vect = CountVectorizer()\n",
    "X_train_counts = count_vect.fit_transform(twenty_train.data)\n",
    "X_train_counts.shape\n",
    "\n",
    "count_vect = CountVectorizer()\n",
    "X_SQL_train_counts = count_vect.fit_transform(data.Query)\n",
    "X_SQL_train_counts.shape"
   ]
  },
  {
   "cell_type": "code",
   "execution_count": 63,
   "metadata": {},
   "outputs": [
    {
     "data": {
      "text/plain": [
       "(19341, 20305)"
      ]
     },
     "execution_count": 63,
     "metadata": {},
     "output_type": "execute_result"
    }
   ],
   "source": [
    "from sklearn.feature_extraction.text import TfidfTransformer\n",
    "tf_transformer = TfidfTransformer(use_idf=False).fit(X_SQL_train_counts)\n",
    "X_train_tf = tf_transformer.transform(X_SQL_train_counts)\n",
    "X_train_tf.shape"
   ]
  },
  {
   "cell_type": "code",
   "execution_count": 65,
   "metadata": {},
   "outputs": [
    {
     "data": {
      "text/plain": [
       "(19341, 20305)"
      ]
     },
     "execution_count": 65,
     "metadata": {},
     "output_type": "execute_result"
    }
   ],
   "source": [
    "tfidf_transformer = TfidfTransformer()\n",
    "X_train_tfidf = tfidf_transformer.fit_transform(X_SQL_train_counts)\n",
    "X_train_tfidf.shape"
   ]
  },
  {
   "cell_type": "code",
   "execution_count": 133,
   "metadata": {},
   "outputs": [],
   "source": [
    "from sklearn.naive_bayes import MultinomialNB\n",
    "clf = MultinomialNB().fit(X_train_tfidf, data.Label)"
   ]
  },
  {
   "cell_type": "code",
   "execution_count": 154,
   "metadata": {},
   "outputs": [
    {
     "name": "stdout",
     "output_type": "stream",
     "text": [
      "[[0.89638016 0.10361984]\n",
      " [0.52212517 0.47787483]\n",
      " [0.61620182 0.38379818]\n",
      " [0.00238158 0.99761842]\n",
      " [0.00182873 0.99817127]]\n",
      "'%20\" O%52 2*%33-6%20O%52 %32/%32-1 Or 8-%38 oR%20p%67_sleep%20 (%20 %5f_T%49M%45_%5f %20) %20--%20' => 0\n",
      "'OpenGL on the GPU is fast' => 0\n",
      "'bolkan@directoriogratuito.int' => 0\n",
      "\"1' where a = a\" => 1\n",
      "'1 And 1' => 1\n"
     ]
    }
   ],
   "source": [
    "docs_new = ['%20\\\" O%52 2*%33-6%20O%52 %32/%32-1 Or 8-%38 oR%20p%67_sleep%20 (%20 %5f_T%49M%45_%5f %20) %20--%20', 'OpenGL on the GPU is fast','bolkan@directoriogratuito.int'\n",
    ",'1\\' where a = a'\n",
    ",'1And1']\n",
    "X_new_counts = count_vect.transform(docs_new)\n",
    "X_new_tfidf = tfidf_transformer.transform(X_new_counts)\n",
    "\n",
    "predicted = clf.predict_proba(X_new_tfidf)\n",
    "print(predicted)\n",
    "B = np.where(predicted > 0.75, 1, 0)\n",
    "a = np.asarray(predicted)\n",
    "\n",
    "for doc, category in zip(docs_new, B[:,1]):\n",
    "    print('%r => %s' % (doc, category))"
   ]
  },
  {
   "cell_type": "code",
   "execution_count": null,
   "metadata": {},
   "outputs": [],
   "source": [
    "#Predict full list"
   ]
  },
  {
   "cell_type": "code",
   "execution_count": 7,
   "metadata": {},
   "outputs": [
    {
     "name": "stdout",
     "output_type": "stream",
     "text": [
      "7509     1 and 3707  =    (  select count  (  *  )   fr...\n",
      "11215                               1' where 9416  =  9416\n",
      "7843     -9582'  )   where 4397  =  4397 union all sele...\n",
      "13679                                             7.67E+15\n",
      "19198                                               aguazo\n",
      "Name: Query, dtype: object\n",
      "7509     1\n",
      "11215    1\n",
      "7843     1\n",
      "13679    0\n",
      "19198    0\n",
      "Name: Label, dtype: int64\n"
     ]
    }
   ],
   "source": [
    "print(train_data.head())\n",
    "print(train_labels.head())"
   ]
  },
  {
   "cell_type": "markdown",
   "metadata": {},
   "source": [
    "## Train Model\n"
   ]
  },
  {
   "cell_type": "code",
   "execution_count": 8,
   "metadata": {},
   "outputs": [
    {
     "name": "stdout",
     "output_type": "stream",
     "text": [
      "WARNING:tensorflow:From c:\\Users\\jonas\\anaconda3\\lib\\site-packages\\keras\\src\\losses.py:2976: The name tf.losses.sparse_softmax_cross_entropy is deprecated. Please use tf.compat.v1.losses.sparse_softmax_cross_entropy instead.\n",
      "\n"
     ]
    }
   ],
   "source": [
    "import tensorflow as tf\n",
    "\n",
    "from tensorflow.keras import layers\n",
    "from tensorflow.keras import losses\n"
   ]
  },
  {
   "cell_type": "code",
   "execution_count": null,
   "metadata": {},
   "outputs": [],
   "source": []
  },
  {
   "cell_type": "code",
   "execution_count": 9,
   "metadata": {},
   "outputs": [
    {
     "ename": "NameError",
     "evalue": "name 'logRegr' is not defined",
     "output_type": "error",
     "traceback": [
      "\u001b[1;31m---------------------------------------------------------------------------\u001b[0m",
      "\u001b[1;31mNameError\u001b[0m                                 Traceback (most recent call last)",
      "\u001b[1;32m~\\AppData\\Local\\Temp\\ipykernel_26596\\3068915739.py\u001b[0m in \u001b[0;36m<module>\u001b[1;34m\u001b[0m\n\u001b[1;32m----> 1\u001b[1;33m \u001b[0mpredicted_labels\u001b[0m \u001b[1;33m=\u001b[0m \u001b[0mlogRegr\u001b[0m\u001b[1;33m.\u001b[0m\u001b[0mpredict\u001b[0m\u001b[1;33m(\u001b[0m\u001b[0mtest_data\u001b[0m\u001b[1;33m)\u001b[0m\u001b[1;33m\u001b[0m\u001b[1;33m\u001b[0m\u001b[0m\n\u001b[0m\u001b[0;32m      2\u001b[0m \u001b[1;33m\u001b[0m\u001b[0m\n\u001b[0;32m      3\u001b[0m \u001b[1;31m# Calculate and print the following metrics: precision, recall, f1-measure, and accuracy\u001b[0m\u001b[1;33m\u001b[0m\u001b[1;33m\u001b[0m\u001b[0m\n\u001b[0;32m      4\u001b[0m \u001b[1;31m# CODE HERE\u001b[0m\u001b[1;33m\u001b[0m\u001b[1;33m\u001b[0m\u001b[0m\n\u001b[0;32m      5\u001b[0m \u001b[1;32mfrom\u001b[0m \u001b[0msklearn\u001b[0m \u001b[1;32mimport\u001b[0m \u001b[0mmetrics\u001b[0m\u001b[1;33m\u001b[0m\u001b[1;33m\u001b[0m\u001b[0m\n",
      "\u001b[1;31mNameError\u001b[0m: name 'logRegr' is not defined"
     ]
    }
   ],
   "source": [
    "predicted_labels = logRegr.predict(test_data)\n",
    "\n",
    "# Calculate and print the following metrics: precision, recall, f1-measure, and accuracy\n",
    "# CODE HERE\n",
    "from sklearn import metrics\n",
    "\n",
    "precision = metrics.precision_score(test_labels, predicted_labels)\n",
    "recall = metrics.recall_score(test_labels, predicted_labels)\n",
    "f1measure = metrics.f1_score(test_labels, predicted_labels)\n",
    "accuracy = metrics.accuracy_score(test_labels, predicted_labels)\n",
    "\n",
    "print(' precision = ' + str(precision))\n",
    "print('    recall = ' + str(recall))\n",
    "print('F1-measure = ' + str(f1measure))\n",
    "print('  accuracy = ' + str(accuracy))"
   ]
  },
  {
   "cell_type": "markdown",
   "metadata": {},
   "source": [
    "## Obfuscate Data\n",
    "\n"
   ]
  },
  {
   "cell_type": "code",
   "execution_count": 10,
   "metadata": {
    "scrolled": true
   },
   "outputs": [],
   "source": [
    "df = pd.DataFrame.from_dict(\n",
    "    {   'Query': [],\n",
    "        'Label': [],\n",
    "        'Original':[],\n",
    "       \n",
    "    }\n",
    ")   \n",
    "charReplaceDF = pd.DataFrame.from_dict(\n",
    "    {   'Query': [],\n",
    "        'Label': [],\n",
    "        'Original':[],\n",
    "    }\n",
    ")   \n",
    "\n",
    "    \n",
    "for index, row in data.iterrows():\n",
    "   \n",
    "    obfuscated = obfuscator.obfuscateCommand( row['Query'])\n",
    "    replaced = obfuscator.replaceChars(obfuscated)\n",
    "    # print(row['Query']+\"\\n\"+obfuscated +\"\\n\"+ replaced  +\"\\n\"+ str(row['Label']))\n",
    "    \n",
    "    new_record = pd.DataFrame([{'Query':obfuscated, 'Label':str(row['Label']),'Original':row['Query']}])\n",
    "    df = pd.concat([df, new_record], ignore_index=True)\n",
    "    \n",
    "    new_record = pd.DataFrame([{'Query':replaced, 'Label':str(row['Label']),'Original':row['Query'],}])\n",
    "    charReplaceDF = pd.concat([charReplaceDF, new_record], ignore_index=True)\n",
    "\n",
    "df.to_csv('Obfuscated_Data.csv')    \n",
    "    \n",
    "charReplaceDF.to_csv('ObfuscatedAndReplaced_Data.csv')    "
   ]
  }
 ],
 "metadata": {
  "kernelspec": {
   "display_name": "Python 3 (ipykernel)",
   "language": "python",
   "name": "python3"
  },
  "language_info": {
   "codemirror_mode": {
    "name": "ipython",
    "version": 3
   },
   "file_extension": ".py",
   "mimetype": "text/x-python",
   "name": "python",
   "nbconvert_exporter": "python",
   "pygments_lexer": "ipython3",
   "version": "3.9.13"
  }
 },
 "nbformat": 4,
 "nbformat_minor": 4
}
